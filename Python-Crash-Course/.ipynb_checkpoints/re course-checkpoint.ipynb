{
 "cells": [
  {
   "cell_type": "markdown",
   "metadata": {},
   "source": [
    "# [Python Regular Expression Quick Guide](https://www.py4e.com/lectures3/Pythonlearn-11-Regex-Handout.txt)\n",
    "\n",
    "```\n",
    "^        Matches the beginning of a line\n",
    "$        Matches the end of the line\n",
    ".        Matches any character\n",
    "\\s       Matches whitespace\n",
    "\\S       Matches any non-whitespace character\n",
    "*        Repeats a character zero or more times\n",
    "*?       Repeats a character zero or more times \n",
    "         (non-greedy)\n",
    "+        Repeats a character one or more times\n",
    "+?       Repeats a character one or more times \n",
    "         (non-greedy)\n",
    "[aeiou]  Matches a single character in the listed set\n",
    "[^XYZ]   Matches a single character not in the listed set\n",
    "[a-z0-9] The set of characters can include a range\n",
    "(        Indicates where string extraction is to start\n",
    ")        Indicates where string extraction is to end\n",
    "```"
   ]
  },
  {
   "cell_type": "code",
   "execution_count": 1,
   "metadata": {
    "collapsed": true
   },
   "outputs": [],
   "source": [
    "import re"
   ]
  },
  {
   "cell_type": "code",
   "execution_count": 2,
   "metadata": {},
   "outputs": [
    {
     "data": {
      "text/plain": [
       "['1', '3', '3', '4']"
      ]
     },
     "execution_count": 2,
     "metadata": {},
     "output_type": "execute_result"
    }
   ],
   "source": [
    "_str = 'adfaq1334a'\n",
    "re.findall('[0-9]', _str)"
   ]
  },
  {
   "cell_type": "markdown",
   "metadata": {},
   "source": [
    "# 贪婪模式\n",
    "当正则表达式中包含能接受重复的限定符时，默认的行为是匹配尽可能多的字符，称为贪婪模式。\n",
    "如果在表示重复的限定符后面加上?，表示非贪婪匹配，意味着在匹配成功条件下使用最少的重复。\n",
    "\n",
    "```\n",
    "+?       重复1次或者多次，但是尽可能少重复\n",
    "*?       重复0次或者多次，但是尽可能少重复\n",
    "??       重复1次或者0次，但是尽可能少重复\n",
    "{n,m}?   重复n到m次，但是尽可能少重复\n",
    "{n,}?    重复n次以上，但是尽可能少重复\n",
    "```"
   ]
  },
  {
   "cell_type": "code",
   "execution_count": 3,
   "metadata": {},
   "outputs": [
    {
     "name": "stdout",
     "output_type": "stream",
     "text": [
      "['stephen.marquard@u']\n",
      "['stephen.marquard@uct.ac.za']\n",
      "['uct.ac.za']\n"
     ]
    }
   ],
   "source": [
    "_str = 'From stephen.marquard@uct.ac.za Sat Jan  5 09:14:16 2008'\n",
    "print(re.findall('\\S+@\\S+?', _str))\n",
    "print(re.findall('\\S+@\\S+', _str))\n",
    "print(re.findall('\\S+@(\\S+)', _str))"
   ]
  },
  {
   "cell_type": "markdown",
   "metadata": {},
   "source": [
    "# re 模块方法\n",
    "re.match = match(pattern, string, flags=0)\n",
    "\n",
    "    从字符串开始匹配pattern，如果匹配成功返回一个match对象，否则返回None   \n",
    "    \n",
    "使用`$pydoc re.match`可以查看python自带文档。"
   ]
  },
  {
   "cell_type": "code",
   "execution_count": 4,
   "metadata": {},
   "outputs": [
    {
     "data": {
      "text/plain": [
       "'hello'"
      ]
     },
     "execution_count": 4,
     "metadata": {},
     "output_type": "execute_result"
    }
   ],
   "source": [
    "m = re.match(r'hello', 'hello,world')\n",
    "m.group()"
   ]
  },
  {
   "cell_type": "markdown",
   "metadata": {},
   "source": [
    "re.search = search(pattern, string, flags=0)\n",
    "\n",
    "    从一个字符串中匹配pattern，如果匹配成功返回一个match对象，否则返回None。与`match`的不同在于不需要从字符串开始匹配"
   ]
  },
  {
   "cell_type": "code",
   "execution_count": 5,
   "metadata": {},
   "outputs": [
    {
     "name": "stdout",
     "output_type": "stream",
     "text": [
      "<_sre.SRE_Match object; span=(6, 11), match='world'>\n"
     ]
    }
   ],
   "source": [
    "pattern = re.compile(r'world')\n",
    "match = pattern.search('hello world!')\n",
    "print(match)"
   ]
  },
  {
   "cell_type": "markdown",
   "metadata": {},
   "source": [
    "re.split = split(pattern, string, maxsplit=0, flags=0)\n",
    "\n",
    "    按照pattern匹配的子串将string分割后返回列表。maxsplit用于指定最大分割次数，不指定将全部分割"
   ]
  },
  {
   "cell_type": "code",
   "execution_count": 6,
   "metadata": {},
   "outputs": [
    {
     "data": {
      "text/plain": [
       "['one', 'two', 'three', 'four', '']"
      ]
     },
     "execution_count": 6,
     "metadata": {},
     "output_type": "execute_result"
    }
   ],
   "source": [
    "p = re.compile(r'\\d+')\n",
    "p.split('one1two2three3four4')"
   ]
  },
  {
   "cell_type": "code",
   "execution_count": 7,
   "metadata": {},
   "outputs": [
    {
     "data": {
      "text/plain": [
       "['one', 'two', 'three', 'four', '']"
      ]
     },
     "execution_count": 7,
     "metadata": {},
     "output_type": "execute_result"
    }
   ],
   "source": [
    "re.split(r'\\d+', 'one1two2three3four4')"
   ]
  },
  {
   "cell_type": "markdown",
   "metadata": {},
   "source": [
    "re.findall = findall(pattern, string, flags=0)\n",
    "\n",
    "    搜索string，以列表形式返回全部能匹配的子串"
   ]
  },
  {
   "cell_type": "code",
   "execution_count": 8,
   "metadata": {},
   "outputs": [
    {
     "data": {
      "text/plain": [
       "['1', '2', '3', '4']"
      ]
     },
     "execution_count": 8,
     "metadata": {},
     "output_type": "execute_result"
    }
   ],
   "source": [
    "p = re.compile(r'\\d+')\n",
    "p.findall('one1two2three3four4')"
   ]
  },
  {
   "cell_type": "code",
   "execution_count": 9,
   "metadata": {},
   "outputs": [
    {
     "data": {
      "text/plain": [
       "['1', '2', '3', '4']"
      ]
     },
     "execution_count": 9,
     "metadata": {},
     "output_type": "execute_result"
    }
   ],
   "source": [
    "re.findall(r'\\d+', 'one1two2three3four4')"
   ]
  },
  {
   "cell_type": "markdown",
   "metadata": {},
   "source": [
    "re.finditer = finditer(pattern, string, flags=0)\n",
    "    \n",
    "    搜索string，返回一个迭代器，迭代器返回所有匹配的match对象"
   ]
  },
  {
   "cell_type": "code",
   "execution_count": 10,
   "metadata": {},
   "outputs": [
    {
     "name": "stdout",
     "output_type": "stream",
     "text": [
      "1\n",
      "2\n",
      "3\n",
      "4\n"
     ]
    }
   ],
   "source": [
    "p = re.compile(r'\\d+')\n",
    "for m in p.finditer('one1two2three3four4'):\n",
    "    print(m.group())"
   ]
  },
  {
   "cell_type": "markdown",
   "metadata": {},
   "source": [
    "re.sub = sub(pattern, repl, string, count=0, flags=0)\n",
    "\n",
    "    使用repl替换string中每一个匹配的子串，返回替换后的字符串。repl可以是一个string或者callable。\n",
    "    当repl是一个字符串时候，可以使用\\id或\\g, \\g引用分组，但不能使用编号0\n",
    "    当repl是callable时候，这个方法接受一个match对象，返回一个用于替换的字符串。\n",
    "    count用于指定最多替换次数。"
   ]
  },
  {
   "cell_type": "code",
   "execution_count": 12,
   "metadata": {},
   "outputs": [
    {
     "name": "stdout",
     "output_type": "stream",
     "text": [
      "just I say, world hello!\n",
      "I Just say, Hello World!\n",
      "('I Just say, Hello World!', 2)\n"
     ]
    }
   ],
   "source": [
    "p = re.compile(r'(\\w+) (\\w+)')\n",
    "s = 'I just say, hello world!'\n",
    "print(p.sub(r'\\2 \\1', s))\n",
    "\n",
    "def func(m):\n",
    "    return m.group(1).title() + ' ' + m.group(2).title()\n",
    "\n",
    "print(p.sub(func, s))\n",
    "\n",
    "print(p.subn(func, s))"
   ]
  },
  {
   "cell_type": "markdown",
   "metadata": {},
   "source": [
    "re.compile\n",
    "\n",
    "    将字符串形式的正则表达式编译为pattern对象，使用`|`可以表示同时生效，比如`re.I|re.m`\n",
    "match 对象\n",
    "\n",
    "    match对象是一次匹配的结果，使用match提供的属性和方法可以获取关于此次匹配的信息\n",
    "pattern 对象\n",
    "\n",
    "    pattern对象是编译好的正则表达式，通过pattern提供的方法可以对文本进行匹配查找，pattern对象必须由`re.compile`构造。"
   ]
  },
  {
   "cell_type": "code",
   "execution_count": 14,
   "metadata": {},
   "outputs": [
    {
     "name": "stdout",
     "output_type": "stream",
     "text": [
      "('hello', 'world')\n",
      "hello world\n",
      "hello world\n"
     ]
    }
   ],
   "source": [
    "p = re.compile(r'(\\w+) (\\w+)')\n",
    "m = p.match('hello world')\n",
    "print(m.groups())\n",
    "print(m.group())\n",
    "print(m.group(1), m.group(2))"
   ]
  }
 ],
 "metadata": {
  "kernelspec": {
   "display_name": "Python 3",
   "language": "python",
   "name": "python3"
  },
  "language_info": {
   "codemirror_mode": {
    "name": "ipython",
    "version": 3
   },
   "file_extension": ".py",
   "mimetype": "text/x-python",
   "name": "python",
   "nbconvert_exporter": "python",
   "pygments_lexer": "ipython3",
   "version": "3.6.1"
  }
 },
 "nbformat": 4,
 "nbformat_minor": 2
}
