{
 "cells": [
  {
   "cell_type": "markdown",
   "metadata": {},
   "source": [
    "[The easy guide for building python collaborative filtering recommendation system](https://medium.com/@m_n_malaeb/the-easy-guide-for-building-python-collaborative-(filtering-recommendation-system-in-2017-d2736d2e92a8)"
   ]
  },
  {
   "cell_type": "code",
   "execution_count": 3,
   "metadata": {
    "collapsed": true
   },
   "outputs": [],
   "source": [
    "import numpy as np\n",
    "import pandas as pd\n",
    "import matplotlib.pyplot as plt\n",
    "import os\n",
    "%matplotlib inline"
   ]
  },
  {
   "cell_type": "code",
   "execution_count": 16,
   "metadata": {
    "collapsed": true
   },
   "outputs": [],
   "source": [
    "DATA_DIR = \"G:\\dataset\\ml-100k\""
   ]
  },
  {
   "cell_type": "code",
   "execution_count": 17,
   "metadata": {},
   "outputs": [
    {
     "data": {
      "text/plain": [
       "['allbut.pl',\n",
       " 'mku.sh',\n",
       " 'README',\n",
       " 'u.data',\n",
       " 'u.genre',\n",
       " 'u.info',\n",
       " 'u.item',\n",
       " 'u.occupation',\n",
       " 'u.user',\n",
       " 'u1.base',\n",
       " 'u1.test',\n",
       " 'u2.base',\n",
       " 'u2.test',\n",
       " 'u3.base',\n",
       " 'u3.test',\n",
       " 'u4.base',\n",
       " 'u4.test',\n",
       " 'u5.base',\n",
       " 'u5.test',\n",
       " 'ua.base',\n",
       " 'ua.test',\n",
       " 'ub.base',\n",
       " 'ub.test']"
      ]
     },
     "execution_count": 17,
     "metadata": {},
     "output_type": "execute_result"
    }
   ],
   "source": [
    "os.listdir(DATA_DIR)"
   ]
  },
  {
   "cell_type": "code",
   "execution_count": 21,
   "metadata": {
    "collapsed": true
   },
   "outputs": [],
   "source": [
    "from surprise import Reader, Dataset\n",
    "\n",
    "# Define format\n",
    "reader = Reader(line_format='user item rating timestamp', sep='\\t')\n",
    "\n",
    "# Load data from file\n",
    "data = Dataset.load_from_file(os.path.join(DATA_DIR, 'u.data'), reader=reader)\n",
    "\n",
    "# Split data into 5 folds\n",
    "data.split(n_folds=5)"
   ]
  },
  {
   "cell_type": "code",
   "execution_count": 23,
   "metadata": {},
   "outputs": [
    {
     "name": "stderr",
     "output_type": "stream",
     "text": [
      "d:\\Anaconda3\\lib\\site-packages\\surprise\\evaluate.py:66: UserWarning: The evaluate() method is deprecated. Please use model_selection.cross_validate() instead.\n",
      "  'model_selection.cross_validate() instead.', UserWarning)\n",
      "d:\\Anaconda3\\lib\\site-packages\\surprise\\dataset.py:193: UserWarning: Using data.split() or using load_from_folds() without using a CV iterator is now deprecated. \n",
      "  UserWarning)\n"
     ]
    },
    {
     "name": "stdout",
     "output_type": "stream",
     "text": [
      "Evaluating RMSE, MAE of algorithm SVD.\n",
      "\n",
      "------------\n",
      "Fold 1\n",
      "RMSE: 0.9323\n",
      "MAE:  0.7366\n",
      "------------\n",
      "Fold 2\n",
      "RMSE: 0.9291\n",
      "MAE:  0.7329\n",
      "------------\n",
      "Fold 3\n",
      "RMSE: 0.9388\n",
      "MAE:  0.7396\n",
      "------------\n",
      "Fold 4\n",
      "RMSE: 0.9374\n",
      "MAE:  0.7377\n",
      "------------\n",
      "Fold 5\n",
      "RMSE: 0.9376\n",
      "MAE:  0.7400\n",
      "------------\n",
      "------------\n",
      "Mean RMSE: 0.9350\n",
      "Mean MAE : 0.7374\n",
      "------------\n",
      "------------\n"
     ]
    },
    {
     "data": {
      "text/plain": [
       "CaseInsensitiveDefaultDict(list,\n",
       "                           {'mae': [0.73660415698473947,\n",
       "                             0.73285700007515608,\n",
       "                             0.73964441993562535,\n",
       "                             0.73769814008577261,\n",
       "                             0.73995279001269754],\n",
       "                            'rmse': [0.93230918693262732,\n",
       "                             0.92908449645039481,\n",
       "                             0.93880979363137673,\n",
       "                             0.93735801204636915,\n",
       "                             0.93759894746877137]})"
      ]
     },
     "execution_count": 23,
     "metadata": {},
     "output_type": "execute_result"
    }
   ],
   "source": [
    "# Evaluate\n",
    "from surprise import SVD, evaluate\n",
    "algo = SVD()\n",
    "evaluate(algo, data, measures=['RMSE', 'MAE'])"
   ]
  },
  {
   "cell_type": "code",
   "execution_count": 25,
   "metadata": {},
   "outputs": [
    {
     "name": "stderr",
     "output_type": "stream",
     "text": [
      "d:\\Anaconda3\\lib\\site-packages\\surprise\\prediction_algorithms\\algo_base.py:51: UserWarning: train() is deprecated. Use fit() instead\n",
      "  warnings.warn('train() is deprecated. Use fit() instead', UserWarning)\n"
     ]
    },
    {
     "name": "stdout",
     "output_type": "stream",
     "text": [
      "user: 196        item: 302        r_ui = 4.00   est = 3.44   {'was_impossible': False}\n"
     ]
    }
   ],
   "source": [
    "# Predicting\n",
    "trainset = data.build_full_trainset()\n",
    "algo.train(trainset)\n",
    "\n",
    "#userId = '196'\n",
    "#itemId = '302'\n",
    "#actual_rating = 4\n",
    "\n",
    "print(algo.predict(userId, 302, 4))"
   ]
  },
  {
   "cell_type": "code",
   "execution_count": null,
   "metadata": {
    "collapsed": true
   },
   "outputs": [],
   "source": []
  }
 ],
 "metadata": {
  "kernelspec": {
   "display_name": "Python 3",
   "language": "python",
   "name": "python3"
  },
  "language_info": {
   "codemirror_mode": {
    "name": "ipython",
    "version": 3
   },
   "file_extension": ".py",
   "mimetype": "text/x-python",
   "name": "python",
   "nbconvert_exporter": "python",
   "pygments_lexer": "ipython3",
   "version": "3.6.1"
  }
 },
 "nbformat": 4,
 "nbformat_minor": 2
}
